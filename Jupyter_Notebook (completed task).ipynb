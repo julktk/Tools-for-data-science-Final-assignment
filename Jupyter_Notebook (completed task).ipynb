{
 "cells": [
  {
   "cell_type": "markdown",
   "metadata": {},
   "source": [
    "<center>\n",
    "    <img src=\"https://cf-courses-data.s3.us.cloud-object-storage.appdomain.cloud/IBMDeveloperSkillsNetwork-DS0105EN-SkillsNetwork/labs/Module2/images/SN_web_lightmode.png\" width=\"300\" alt=\"cognitiveclass.ai logo\">\n",
    "</center>\n"
   ]
  },
  {
   "cell_type": "markdown",
   "metadata": {},
   "source": [
    "#### Add your code below following the instructions given in the course\n"
   ]
  },
  {
   "cell_type": "markdown",
   "metadata": {},
   "source": [
    "## Final work - Tools for Data Science"
   ]
  },
  {
   "cell_type": "markdown",
   "metadata": {},
   "source": [
    "On this Jupyter Notebook we will complete the final work of the Tools for Data Science course."
   ]
  },
  {
   "cell_type": "markdown",
   "metadata": {},
   "source": [
    "<html>\n",
    "    <p>Main Data Science languages:</p>\n",
    "    <ul>\n",
    "        <li>Python</li>\n",
    "        <li>R</li>\n",
    "        <li>SQL</li>\n",
    "        <li>Scala</li>\n",
    "        <li>Julia</li>\n",
    "    </ul>\n",
    "</html>"
   ]
  },
  {
   "cell_type": "markdown",
   "metadata": {},
   "source": [
    "<html>\n",
    "    <p>Some Data Science libraries are:</p>\n",
    "    <ul>\n",
    "        <li>Apache Spark</li>\n",
    "        <li>Pandas</li>\n",
    "        <li>TensorFlow</li>\n",
    "        <li>PyTorch</li>\n",
    "    </ul>\n",
    "</html>"
   ]
  },
  {
   "cell_type": "markdown",
   "metadata": {},
   "source": [
    "<html>\n",
    "    <table align=\"left\" style=\"text-align: center\">\n",
    "        <tr>\n",
    "            <th>Data Science tool</th>\n",
    "            <th>Main function</th>\n",
    "        </tr>\n",
    "        <tr>\n",
    "            <td>MySQL</td>\n",
    "            <td>Data management</td>\n",
    "        </tr>\n",
    "        <tr>\n",
    "            <td>Hadoop</td>\n",
    "            <td>Data management</td>\n",
    "        </tr>\n",
    "        <tr>\n",
    "            <td>TensorFlow</td>\n",
    "            <td>Model deployment</td>\n",
    "        </tr>\n",
    "        <tr>\n",
    "            <td>GitHub</td>\n",
    "            <td>Code Asset Management</td>\n",
    "        </tr>\n",
    "        <tr>\n",
    "            <td>Jupyter</td>\n",
    "            <td>Development Environments</td>\n",
    "        </tr>\n",
    "    </table>"
   ]
  },
  {
   "cell_type": "markdown",
   "metadata": {},
   "source": [
    "## Arithmetic Expression Examples\n",
    "Arithmetic expressions are mathematical statements that involve the use of mathematical operations such as addition, subtraction, multiplication, and division. These expressions are used to perform calculations and solve mathematical problems."
   ]
  },
  {
   "cell_type": "code",
   "execution_count": 4,
   "metadata": {
    "tags": []
   },
   "outputs": [
    {
     "name": "stdout",
     "output_type": "stream",
     "text": [
      "32\n",
      "18\n"
     ]
    }
   ],
   "source": [
    "print(4*8)\n",
    "print(10+8)"
   ]
  },
  {
   "cell_type": "code",
   "execution_count": 6,
   "metadata": {
    "tags": []
   },
   "outputs": [
    {
     "name": "stdout",
     "output_type": "stream",
     "text": [
      "A day has 24 hours and 1440 minutes\n"
     ]
    }
   ],
   "source": [
    "hours=24\n",
    "minutes=hours*60\n",
    "print(\"A day has\",hours,\"hours and\",minutes,\"minutes\")"
   ]
  },
  {
   "cell_type": "markdown",
   "metadata": {},
   "source": [
    "<h4>The objectives of this task are:</h4>\n",
    "<ul>\n",
    "    <li>To demonstrate <strong>knowledge and understanding of fundamental programming concepts</strong>.</li>\n",
    "    <li>To develop the ability to <strong>implement functions</strong> to solve problems.</li>\n",
    "    <li>To develop <strong>proficiency in a programming language</strong>, such as Python.</li>\n",
    "    <li>To gain <strong>experience in using a Jupyter Notebook</strong> environment for code development and documentation.</li>\n",
    "</ul>"
   ]
  },
  {
   "cell_type": "markdown",
   "metadata": {},
   "source": [
    "### Author\n",
    "This notebook was created by **Julián Baeza**\n",
    "\n",
    "Check out my [Linkedin](https://www.linkedin.com/in/julianbaezagarcia)"
   ]
  }
 ],
 "metadata": {
  "kernelspec": {
   "display_name": "Python",
   "language": "python",
   "name": "conda-env-python-py"
  },
  "language_info": {
   "codemirror_mode": {
    "name": "ipython",
    "version": 3
   },
   "file_extension": ".py",
   "mimetype": "text/x-python",
   "name": "python",
   "nbconvert_exporter": "python",
   "pygments_lexer": "ipython3",
   "version": "3.7.12"
  }
 },
 "nbformat": 4,
 "nbformat_minor": 4
}
